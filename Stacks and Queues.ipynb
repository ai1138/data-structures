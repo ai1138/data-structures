{
 "cells": [
  {
   "cell_type": "code",
   "execution_count": 10,
   "metadata": {},
   "outputs": [],
   "source": [
    "class Stack:\n",
    "    def __init__(self):\n",
    "        self.data = []\n",
    "\n",
    "    def __len__(self):\n",
    "        return len(self.data)\n",
    "\n",
    "    def is_empty(self):\n",
    "        return (len(self) == 0)\n",
    "\n",
    "    def push(self, item):\n",
    "        self.data.append(item)\n",
    "\n",
    "    def pop(self):\n",
    "        if(self.is_empty() == True):\n",
    "            raise Exception(\"Stack is empty\")\n",
    "        return self.data.pop()\n",
    "\n",
    "    def top(self):\n",
    "        if (self.is_empty() == True):\n",
    "            raise Exception(\"Stack is empty\")\n",
    "        return self.data[-1]"
   ]
  },
  {
   "cell_type": "code",
   "execution_count": 17,
   "metadata": {},
   "outputs": [
    {
     "ename": "TypeError",
     "evalue": "'Stack' object is not subscriptable",
     "output_type": "error",
     "traceback": [
      "\u001b[1;31m---------------------------------------------------------------------------\u001b[0m",
      "\u001b[1;31mTypeError\u001b[0m                                 Traceback (most recent call last)",
      "\u001b[1;32m<ipython-input-17-9c8690f9c94a>\u001b[0m in \u001b[0;36m<module>\u001b[1;34m\u001b[0m\n\u001b[0;32m      9\u001b[0m         \u001b[0ms\u001b[0m\u001b[1;33m+=\u001b[0m \u001b[0mtemp\u001b[0m\u001b[1;33m.\u001b[0m\u001b[0mpop\u001b[0m\u001b[1;33m(\u001b[0m\u001b[1;33m)\u001b[0m\u001b[1;33m\u001b[0m\u001b[1;33m\u001b[0m\u001b[0m\n\u001b[0;32m     10\u001b[0m     \u001b[1;32mreturn\u001b[0m \u001b[0ms\u001b[0m\u001b[1;33m\u001b[0m\u001b[1;33m\u001b[0m\u001b[0m\n\u001b[1;32m---> 11\u001b[1;33m \u001b[0mreverse\u001b[0m\u001b[1;33m(\u001b[0m\u001b[1;34m\"hello\"\u001b[0m\u001b[1;33m)\u001b[0m\u001b[1;33m\u001b[0m\u001b[1;33m\u001b[0m\u001b[0m\n\u001b[0m",
      "\u001b[1;32m<ipython-input-17-9c8690f9c94a>\u001b[0m in \u001b[0;36mreverse\u001b[1;34m(s)\u001b[0m\n\u001b[0;32m      4\u001b[0m     \u001b[1;32mfor\u001b[0m \u001b[0mi\u001b[0m \u001b[1;32min\u001b[0m \u001b[0mrange\u001b[0m\u001b[1;33m(\u001b[0m\u001b[0mlen\u001b[0m\u001b[1;33m(\u001b[0m\u001b[0ms\u001b[0m\u001b[1;33m)\u001b[0m\u001b[1;33m)\u001b[0m\u001b[1;33m:\u001b[0m\u001b[1;33m\u001b[0m\u001b[1;33m\u001b[0m\u001b[0m\n\u001b[0;32m      5\u001b[0m         \u001b[0mtemp\u001b[0m\u001b[1;33m.\u001b[0m\u001b[0mpush\u001b[0m\u001b[1;33m(\u001b[0m\u001b[0ms\u001b[0m\u001b[1;33m[\u001b[0m\u001b[0mi\u001b[0m\u001b[1;33m]\u001b[0m\u001b[1;33m)\u001b[0m\u001b[1;33m\u001b[0m\u001b[1;33m\u001b[0m\u001b[0m\n\u001b[1;32m----> 6\u001b[1;33m     \u001b[0mtemp\u001b[0m\u001b[1;33m[\u001b[0m\u001b[1;33m-\u001b[0m\u001b[1;36m1\u001b[0m\u001b[1;33m]\u001b[0m\u001b[1;33m\u001b[0m\u001b[1;33m\u001b[0m\u001b[0m\n\u001b[0m\u001b[0;32m      7\u001b[0m     \u001b[0ms\u001b[0m \u001b[1;33m=\u001b[0m \u001b[1;34m\"\"\u001b[0m\u001b[1;33m\u001b[0m\u001b[1;33m\u001b[0m\u001b[0m\n\u001b[0;32m      8\u001b[0m     \u001b[1;32mfor\u001b[0m \u001b[0mi\u001b[0m \u001b[1;32min\u001b[0m \u001b[0mrange\u001b[0m\u001b[1;33m(\u001b[0m\u001b[0mlen\u001b[0m\u001b[1;33m(\u001b[0m\u001b[0mtemp\u001b[0m\u001b[1;33m)\u001b[0m\u001b[1;33m)\u001b[0m\u001b[1;33m:\u001b[0m\u001b[1;33m\u001b[0m\u001b[1;33m\u001b[0m\u001b[0m\n",
      "\u001b[1;31mTypeError\u001b[0m: 'Stack' object is not subscriptable"
     ]
    }
   ],
   "source": [
    "#reverse a string using a stack\n",
    "def reverse(s):\n",
    "    temp = Stack()\n",
    "    for i in range(len(s)):\n",
    "        temp.push(s[i])\n",
    "    s = \"\"\n",
    "    for i in range(len(temp)):\n",
    "        s+= temp.pop()\n",
    "    return s\n",
    "reverse(\"hello\")\n"
   ]
  },
  {
   "cell_type": "code",
   "execution_count": 43,
   "metadata": {},
   "outputs": [
    {
     "name": "stdout",
     "output_type": "stream",
     "text": [
      "{[]{()}} - False\n",
      "[{}{})(] - False\n"
     ]
    }
   ],
   "source": [
    "def eval_postfix_exp(exp_str):\n",
    "    operators = \"+-*/\"\n",
    "    args_stack = Stack()\n",
    "    exp_tokens = exp_str.split()\n",
    "    for token in exp_tokens:\n",
    "        if(token not in operators): #token is a number\n",
    "            args_stack.push(int(token))\n",
    "        else:\n",
    "            arg2 = args_stack.pop()\n",
    "            arg1 = args_stack.pop()\n",
    "            if (token == '+'):\n",
    "                res = arg1 + arg2\n",
    "            elif (token == '-'):\n",
    "                res = arg1 - arg2\n",
    "            elif (token == '*'):\n",
    "                res = arg1 * arg2\n",
    "            else: #token == '/'\n",
    "                if(arg2 == 0):\n",
    "                    raise ZeroDivisionError\n",
    "                else:\n",
    "                    res = arg1 / arg2\n",
    "            args_stack.push(res)\n",
    "\n",
    "    return args_stack.pop()\n",
    "\n",
    "val = eval_postfix_exp('2 3 4 + 3 * 4 6 - + *')\n",
    "print(val)\n"
   ]
  },
  {
   "cell_type": "code",
   "execution_count": 3,
   "metadata": {},
   "outputs": [
    {
     "name": "stdout",
     "output_type": "stream",
     "text": [
      "2\n"
     ]
    }
   ],
   "source": [
    "class Queue:\n",
    "    INITIAL_CAPACITY = 8\n",
    "\n",
    "    def __init__(self):\n",
    "        self.data = [None] * ArrayQueue.INITIAL_CAPACITY\n",
    "        self.num_of_elems = 0\n",
    "        self.front_ind = None\n",
    "\n",
    "    def __len__(self):\n",
    "        return self.num_of_elems\n",
    "\n",
    "    def is_empty(self):\n",
    "        return (len(self) == 0)\n",
    "\n",
    "    def enqueue(self, elem):\n",
    "        if(self.num_of_elems == len(self.data)):\n",
    "            self.resize(2 * len(self.data))\n",
    "        if(self.is_empty()):\n",
    "            self.data[0] = elem\n",
    "            self.front_ind = 0\n",
    "            self.num_of_elems += 1\n",
    "        else:\n",
    "            back_ind = (self.front_ind + self.num_of_elems) % len(self.data)\n",
    "            self.data[back_ind] = elem\n",
    "            self.num_of_elems += 1\n",
    "\n",
    "    def dequeue(self):\n",
    "        if (self.is_empty()):\n",
    "            raise Exception(\"Queue is empty\")\n",
    "        val = self.data[self.front_ind]\n",
    "        self.data[self.front_ind] = None\n",
    "        self.front_ind = (self.front_ind + 1) % len((self.data))\n",
    "        self.num_of_elems -= 1\n",
    "        if(self.is_empty()):\n",
    "            self.front_ind = None\n",
    "        elif(self.num_of_elems < len(self.data) // 4):\n",
    "            self.resize(len(self.data) // 2)\n",
    "        return val\n",
    "\n",
    "    def first(self):\n",
    "        if(self.is_empty()):\n",
    "            raise Exception(\"Queue is empty\")\n",
    "        return self.data[self.front_ind]\n",
    "\n",
    "    def resize(self, new_cap):\n",
    "        old_data = self.data\n",
    "        self.data = [None] * new_cap\n",
    "        old_ind = self.front_ind\n",
    "        for new_ind in range(self.num_of_elems):\n",
    "            self.data[new_ind] = old_data[old_ind]\n",
    "            old_ind = (old_ind + 1) % len(old_data)\n",
    "        self.front_ind = 0\n"
   ]
  },
  {
   "cell_type": "code",
   "execution_count": null,
   "metadata": {},
   "outputs": [],
   "source": []
  },
  {
   "cell_type": "code",
   "execution_count": null,
   "metadata": {},
   "outputs": [],
   "source": []
  }
 ],
 "metadata": {
  "kernelspec": {
   "display_name": "Python 3",
   "language": "python",
   "name": "python3"
  },
  "language_info": {
   "codemirror_mode": {
    "name": "ipython",
    "version": 3
   },
   "file_extension": ".py",
   "mimetype": "text/x-python",
   "name": "python",
   "nbconvert_exporter": "python",
   "pygments_lexer": "ipython3",
   "version": "3.7.3"
  }
 },
 "nbformat": 4,
 "nbformat_minor": 2
}
