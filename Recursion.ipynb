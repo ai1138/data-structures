{
 "cells": [
  {
   "cell_type": "code",
   "execution_count": null,
   "metadata": {},
   "outputs": [],
   "source": [
    "#recursion probkems 1 a simple function that is givven a start and end and prints out all the numbers inbetween\n",
    "def count_up1(start, end):\n",
    "    if (start == end):\n",
    "        print(end)\n",
    "    else:\n",
    "        print(start)\n",
    "        count_up1(start + 1, end)"
   ]
  },
  {
   "cell_type": "code",
   "execution_count": null,
   "metadata": {},
   "outputs": [],
   "source": [
    "#count all the appearances of a value in a list recursively\n",
    "def count_appearances1(lst, val):\n",
    "    if(len(lst) == 0):\n",
    "        return 0\n",
    "    else:\n",
    "        count_rest = count_appearances1(lst[1: ], val)\n",
    "        if(lst[0] == val):\n",
    "            return count_rest + 1\n",
    "        else:\n",
    "            return count_rest"
   ]
  },
  {
   "cell_type": "code",
   "execution_count": null,
   "metadata": {},
   "outputs": [],
   "source": [
    "#different ways to wrime the power function\n",
    "def power1(x, n):\n",
    "    if(n == 1):\n",
    "        return x\n",
    "    else:\n",
    "        rest = power1(x, n-1)\n",
    "        return x*rest\n",
    "\n",
    "def power2(x, n): \n",
    "    if (n == 1):\n",
    "        return x\n",
    "    else:\n",
    "        part1 = power2(x, n//2)\n",
    "        part2 = power2(x, n//2)\n",
    "        if (n % 2 == 0):\n",
    "            return part1 * part2\n",
    "        else: # n is odd\n",
    "            return x * part1 * part2\n",
    "\n",
    "def power3(x, n):\n",
    "    if (n == 1):\n",
    "        return x\n",
    "    else:\n",
    "        part = power3(x, n//2)\n",
    "        if (n % 2 == 0):\n",
    "            return part * part\n",
    "        else: # n is odd\n",
    "            return x * part * part\n"
   ]
  },
  {
   "cell_type": "code",
   "execution_count": null,
   "metadata": {},
   "outputs": [],
   "source": [
    "#find the smallest value in a list\n",
    "def list_min(lst, low, high):\n",
    "    if (low == high):\n",
    "        return lst[low]\n",
    "    else:\n",
    "        if lst[low] < lst[high]:\n",
    "            return list_min(lst, low, high-1)\n",
    "        elif lst[low] > lst[high]:\n",
    "            return list_min(lst, low + 1, high)\n",
    "        else:\n",
    "            return list_min(lst, low, high-1)\n"
   ]
  },
  {
   "cell_type": "code",
   "execution_count": 17,
   "metadata": {},
   "outputs": [
    {
     "name": "stdout",
     "output_type": "stream",
     "text": [
      "Yes\n"
     ]
    }
   ],
   "source": [
    "#check if a number is prime\n",
    "def isPrime(n, i = 2): \n",
    "\n",
    "    # Base cases \n",
    "    if (n <= 2): \n",
    "        return True \n",
    "    if (n % i == 0): \n",
    "        return False\n",
    "    if (i * i > n): \n",
    "        return True \n",
    "  \n",
    "    # Check for next divisor \n",
    "    return isPrime(n, i + 1) \n",
    "n = 13\n",
    "if (isPrime(n)): \n",
    "    print(\"Yes\") \n",
    "else: \n",
    "    print(\"No\") \n",
    "      "
   ]
  },
  {
   "cell_type": "code",
   "execution_count": null,
   "metadata": {},
   "outputs": [],
   "source": [
    "#pascal triangle \n",
    "def pascal(n):\n",
    "    if n == 1:\n",
    "        return [1]\n",
    "    else:\n",
    "        line = [1]\n",
    "        previous_line = pascal(n-1)\n",
    "        for i in range(len(previous_line)-1):\n",
    "            line.append(previous_line[i] + previous_line[i+1])\n",
    "        line += [1]\n",
    "    return line\n",
    "\n",
    "print(pascal(6))"
   ]
  }
 ],
 "metadata": {
  "kernelspec": {
   "display_name": "Python 3",
   "language": "python",
   "name": "python3"
  },
  "language_info": {
   "codemirror_mode": {
    "name": "ipython",
    "version": 3
   },
   "file_extension": ".py",
   "mimetype": "text/x-python",
   "name": "python",
   "nbconvert_exporter": "python",
   "pygments_lexer": "ipython3",
   "version": "3.7.3"
  }
 },
 "nbformat": 4,
 "nbformat_minor": 2
}
